{
 "cells": [
  {
   "cell_type": "markdown",
   "metadata": {},
   "source": [
    "### Retrive table description\n",
    "\n",
    "Parse the dbt schema file and retrive table description along with column details"
   ]
  },
  {
   "cell_type": "markdown",
   "metadata": {},
   "source": [
    "### Create and store table descripton embeddings"
   ]
  },
  {
   "cell_type": "markdown",
   "metadata": {},
   "source": [
    "### Generate the sql statement based on user prompt\n",
    "\n",
    "Call a function that the table descriptions that will return the most likely tables to have this information based a neighboard search.\n",
    "\n",
    "Feed back the table information to the prompt\n",
    "\n",
    "Enginier the prompt in such a way that only SQL will be returned using a mult shoot strategy with examples"
   ]
  },
  {
   "cell_type": "code",
   "execution_count": null,
   "metadata": {},
   "outputs": [],
   "source": [
    "functions = [\n",
    "    {\n",
    "        \"name\": \"retrive_table\",\n",
    "        \"description\": \"\"\"Retrieve table information based on the description provided by the user.\n",
    "          The information will be returned in a json like this:\n",
    "          {\n",
    "            \"name\": \"the name of the table\",\n",
    "            \"description\": \"the description of the info contained in the table\",\n",
    "            \"columns\": [\n",
    "              {\n",
    "                \"name\": \"column name\",\n",
    "                \"description: \"description of the data in the column\",\n",
    "                \"properties\": \"properties of the column value, e.g. not_null, unique\"\n",
    "              }\n",
    "            ]\n",
    "          }\n",
    "          \n",
    "          ### EXAMPLE\n",
    "          {\n",
    "            \"name\": \"stg_dosare\",\n",
    "            \"description\": \"Informații despre dosarele din baza de date a instanțelor judecătorești\",\n",
    "            \"columns\": [\n",
    "              {\n",
    "                \"name\": \"obiect\",\n",
    "                \"description: \"Obiectul judecății, acuzațiile\",\n",
    "                \"properties\": \"not_null\"\n",
    "              }\n",
    "            ]\n",
    "          }\n",
    "          \"\"\",\n",
    "        \"parametes\": {\n",
    "            \"type\": \"type\",\n",
    "            \"properties\": {\n",
    "                \"description\": {\n",
    "                    \"type\": \"string\",\n",
    "                    \"description\": \"The description of the information contained in the table\",\n",
    "                }\n",
    "            },\n",
    "            \"required\": [\"description\"],\n",
    "        },\n",
    "    }\n",
    "]"
   ]
  },
  {
   "cell_type": "markdown",
   "metadata": {},
   "source": [
    "### Regression tests\n",
    "\n",
    "Write a bunch of tests to figure out if we have regression in our assistant"
   ]
  }
 ],
 "metadata": {
  "kernelspec": {
   "display_name": "opendataexplorer",
   "language": "python",
   "name": "python3"
  },
  "language_info": {
   "name": "python",
   "version": "3.12.0"
  }
 },
 "nbformat": 4,
 "nbformat_minor": 2
}
